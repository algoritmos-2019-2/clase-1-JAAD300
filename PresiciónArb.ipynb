{
 "cells": [
  {
   "cell_type": "code",
   "execution_count": null,
   "metadata": {},
   "outputs": [],
   "source": [
    "%matplotlib inline\n",
    "from numpy import *\n",
    "import matplotlib.pyplot as plt"
   ]
  },
  {
   "cell_type": "code",
   "execution_count": null,
   "metadata": {},
   "outputs": [],
   "source": [
    "def elementsFloat(b,p,l,u):\n",
    "    \n",
    "    FloatnumbersX = [0]\n",
    "    \n",
    "    print(\"ingrese la base numérica\")\n",
    "    b = int(input())\n",
    "    \n",
    "    print(\"ingrese la precisión\")\n",
    "    p = int(input())\n",
    "    \n",
    "    print(\"ingrese el mínimo exponente\")\n",
    "    l = int(input())\n",
    "    \n",
    "    print(\"ingrese el  máximo exponente\")\n",
    "    u = int(input())\n",
    "    \n",
    "    D0 = range(1,b)\n",
    "    D1 = range(0,b)\n",
    "    D2 = range(0,b)\n",
    "    Pres = range(2,p)\n",
    "    Exp = range(l,u)\n",
    "    for d0 in D0:\n",
    "        for d1 in D1:\n",
    "            for d2 in D2:\n",
    "                for e in Exp:\n",
    "                    for p in Pres:\n",
    "                        FloatnumbersX.append(-1.0*(d0+(d1/b)+(d2/b**p))*b**e)\n",
    "                        FloatnumbersX.append((d0+(d1/b)+(d2/b**p))*b**e)\n",
    "                \n",
    "    print(\"Número de elementos del sistema:\", len(FloatnumbersX))\n",
    "    print(\"Menor número:\", FloatnumbersX[1])\n",
    "    print(\"Mayor número:\", FloatnumbersX[-1])\n",
    "    \n",
    "    plt.plot(elementsFloat, zeros(len(elementsFloat)),\".\")"
   ]
  },
  {
   "cell_type": "code",
   "execution_count": null,
   "metadata": {},
   "outputs": [],
   "source": [
    "elementsFloat(2,3,4,1)"
   ]
  }
 ],
 "metadata": {
  "kernelspec": {
   "display_name": "Python 3",
   "language": "python",
   "name": "python3"
  },
  "language_info": {
   "codemirror_mode": {
    "name": "ipython",
    "version": 3
   },
   "file_extension": ".py",
   "mimetype": "text/x-python",
   "name": "python",
   "nbconvert_exporter": "python",
   "pygments_lexer": "ipython3",
   "version": "3.7.1"
  }
 },
 "nbformat": 4,
 "nbformat_minor": 2
}
