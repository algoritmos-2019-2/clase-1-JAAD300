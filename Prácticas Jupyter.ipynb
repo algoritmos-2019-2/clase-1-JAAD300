{
 "cells": [
  {
   "cell_type": "code",
   "execution_count": null,
   "metadata": {},
   "outputs": [],
   "source": [
    "%matplotlib inline\n",
    "from numpy import *\n",
    "import matplotlib.pyplot as plt"
   ]
  },
  {
   "cell_type": "code",
   "execution_count": null,
   "metadata": {},
   "outputs": [],
   "source": [
    "D0_Values = [1,2,3,4,5,6,7,8,9]\n",
    "D1_Values = [0,1,2,3,4,5,6,7,8,9]\n",
    "base = 10\n",
    "Exp = [-2,-1,0]\n",
    "floatnumbers = [0]\n",
    "for e in Exp:\n",
    "    for d0 in D0_Values:\n",
    "        for d1 in D1_Values:\n",
    "            floatnumbers.append(-1.0*(d0+d1/base)*base**e)\n",
    "            floatnumbers.append((d0+d1/base)*base**e)"
   ]
  },
  {
   "cell_type": "code",
   "execution_count": null,
   "metadata": {},
   "outputs": [],
   "source": [
    "#número de elementos\n",
    "len(floatnumbers)"
   ]
  },
  {
   "cell_type": "code",
   "execution_count": null,
   "metadata": {},
   "outputs": [],
   "source": [
    "#elemento cero\n",
    "floatnumbers[0]"
   ]
  },
  {
   "cell_type": "code",
   "execution_count": null,
   "metadata": {},
   "outputs": [],
   "source": [
    "#número menor\n",
    "floatnumbers[1]"
   ]
  },
  {
   "cell_type": "code",
   "execution_count": null,
   "metadata": {},
   "outputs": [],
   "source": [
    "#número mayor\n",
    "floatnumbers[540]"
   ]
  },
  {
   "cell_type": "code",
   "execution_count": null,
   "metadata": {},
   "outputs": [],
   "source": [
    "plt.plot(floatnumbers, zeros(len(floatnumbers)),\".\")"
   ]
  },
  {
   "cell_type": "code",
   "execution_count": null,
   "metadata": {},
   "outputs": [],
   "source": []
  },
  {
   "cell_type": "code",
   "execution_count": null,
   "metadata": {},
   "outputs": [],
   "source": []
  },
  {
   "cell_type": "code",
   "execution_count": null,
   "metadata": {},
   "outputs": [],
   "source": [
    "D0_Values = [1]\n",
    "D1_Values = [0,1]\n",
    "base = 2\n",
    "Exp = [-1,0,1]\n",
    "floatnumbers1 = [0]\n",
    "for e in Exp:\n",
    "    for d0 in D0_Values:\n",
    "        for d1 in D1_Values:\n",
    "            floatnumbers1.append(-1.0*(d0+d1/base)*base**e)\n",
    "            floatnumbers1.append((d0+d1/base)*base**e)"
   ]
  },
  {
   "cell_type": "code",
   "execution_count": null,
   "metadata": {},
   "outputs": [],
   "source": [
    "#número de elementos\n",
    "len(floatnumbers1)"
   ]
  },
  {
   "cell_type": "code",
   "execution_count": null,
   "metadata": {},
   "outputs": [],
   "source": [
    "#elemento 0\n",
    "floatnumbers1[0]"
   ]
  },
  {
   "cell_type": "code",
   "execution_count": null,
   "metadata": {},
   "outputs": [],
   "source": [
    "#número menor\n",
    "floatnumbers1[1]"
   ]
  },
  {
   "cell_type": "code",
   "execution_count": null,
   "metadata": {},
   "outputs": [],
   "source": [
    "#número mayor\n",
    "floatnumbers1[12]"
   ]
  },
  {
   "cell_type": "code",
   "execution_count": null,
   "metadata": {},
   "outputs": [],
   "source": []
  },
  {
   "cell_type": "code",
   "execution_count": null,
   "metadata": {},
   "outputs": [],
   "source": []
  },
  {
   "cell_type": "code",
   "execution_count": null,
   "metadata": {},
   "outputs": [],
   "source": [
    "D0_Values = [1]\n",
    "D1_Values = [0,1]\n",
    "D2_Values = [0,1]\n",
    "base = 2\n",
    "Exp = [-1,0,1]\n",
    "floatnumbers2 = [0]\n",
    "for e in Exp:\n",
    "    for d0 in D0_Values:\n",
    "        for d1 in D1_Values:\n",
    "            for d2 in D2_Values:\n",
    "                floatnumbers2.append(-1.0*(d0+(d1/base)+(d2/base**2))*base**e)\n",
    "                floatnumbers2.append((d0+(d1/base)+(d2/base**2))*base**e)"
   ]
  },
  {
   "cell_type": "code",
   "execution_count": null,
   "metadata": {},
   "outputs": [],
   "source": [
    "#número de elementos\n",
    "len(floatnumbers2)"
   ]
  },
  {
   "cell_type": "code",
   "execution_count": null,
   "metadata": {},
   "outputs": [],
   "source": [
    "#elemento 0\n",
    "floatnumbers2[0]"
   ]
  },
  {
   "cell_type": "code",
   "execution_count": null,
   "metadata": {},
   "outputs": [],
   "source": [
    "#número menor\n",
    "floatnumbers2[1]"
   ]
  },
  {
   "cell_type": "code",
   "execution_count": null,
   "metadata": {},
   "outputs": [],
   "source": [
    "#número mayor\n",
    "floatnumbers2[24]"
   ]
  },
  {
   "cell_type": "code",
   "execution_count": null,
   "metadata": {},
   "outputs": [],
   "source": []
  },
  {
   "cell_type": "code",
   "execution_count": null,
   "metadata": {},
   "outputs": [],
   "source": []
  },
  {
   "cell_type": "code",
   "execution_count": null,
   "metadata": {},
   "outputs": [],
   "source": [
    "def elementsFloat(b,P,l,u):\n",
    "    \n",
    "    FloatnumbersX = [0]\n",
    "    print(\"ingrese la base numérica\")\n",
    "    b = int(input())\n",
    "    P = 3\n",
    "    print(\"ingrese el mínimo exponente\")\n",
    "    l = int(input())\n",
    "    print(\"ingrese el  máximo exponente\")\n",
    "    u = int(input())\n",
    "    \n",
    "    D0 = range(1,b)\n",
    "    D1 = range(0,b)\n",
    "    D2 = range(0,b)\n",
    "    Exp = range(l,u)\n",
    "    for d0 in D0:\n",
    "        for d1 in D1:\n",
    "            for d2 in D2:\n",
    "                for e in Exp:\n",
    "                    FloatnumbersX.append(-1.0*(d0+(d1/b)+(d2/b**2))*b**e)\n",
    "                    FloatnumbersX.append((d0+(d1/b)+(d2/b**2))*b**e)\n",
    "                \n",
    "    print(\"Número de elementos del sistema:\", len(FloatnumbersX))\n",
    "    print(\"Menor número:\", FloatnumbersX[1])\n",
    "    print(\"Mayor número:\", FloatnumbersX[-1])\n",
    "            \n",
    "                \n",
    "    "
   ]
  },
  {
   "cell_type": "code",
   "execution_count": null,
   "metadata": {},
   "outputs": [],
   "source": [
    "#Corremos la función\n",
    "elementsFloat(1,2,3,4)"
   ]
  }
 ],
 "metadata": {
  "kernelspec": {
   "display_name": "Python 3",
   "language": "python",
   "name": "python3"
  },
  "language_info": {
   "codemirror_mode": {
    "name": "ipython",
    "version": 3
   },
   "file_extension": ".py",
   "mimetype": "text/x-python",
   "name": "python",
   "nbconvert_exporter": "python",
   "pygments_lexer": "ipython3",
   "version": "3.7.1"
  }
 },
 "nbformat": 4,
 "nbformat_minor": 2
}
